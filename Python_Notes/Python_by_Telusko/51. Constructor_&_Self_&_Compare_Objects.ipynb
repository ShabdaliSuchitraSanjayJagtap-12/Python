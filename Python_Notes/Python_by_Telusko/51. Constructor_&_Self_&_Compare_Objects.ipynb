{
 "cells": [
  {
   "cell_type": "markdown",
   "metadata": {},
   "source": [
    "### 51. Constructor_&_Self_&_Compare_Objects\n",
    "\n",
    "1. Size of an object?\n",
    "-> Depends on the no. of variables and size of each variable.\n",
    "\n",
    "2. Who allocates size to object?\n",
    "-> Constructor"
   ]
  },
  {
   "cell_type": "code",
   "execution_count": 1,
   "metadata": {},
   "outputs": [
    {
     "name": "stdout",
     "output_type": "stream",
     "text": [
      "2352109772176\n"
     ]
    }
   ],
   "source": [
    "# Here we get the address of that memory. And every time we run we get different addresses.\n",
    "\n",
    "class Computer:\n",
    "    pass\n",
    "\n",
    "c1 = Computer()\n",
    "print(id(c1))"
   ]
  },
  {
   "cell_type": "code",
   "execution_count": 2,
   "metadata": {},
   "outputs": [
    {
     "name": "stdout",
     "output_type": "stream",
     "text": [
      "2352109795600\n",
      "2352109772176\n"
     ]
    }
   ],
   "source": [
    "# Here we get the address of that memory. And every time we run we get different addresses.\n",
    "\n",
    "class Computer:\n",
    "    pass\n",
    "\n",
    "c1 = Computer()\n",
    "c2 = Computer()\n",
    "\n",
    "print(id(c1))\n",
    "print(id(c2))"
   ]
  },
  {
   "cell_type": "code",
   "execution_count": 3,
   "metadata": {},
   "outputs": [
    {
     "name": "stdout",
     "output_type": "stream",
     "text": [
      "Navin\n",
      "Navin\n"
     ]
    }
   ],
   "source": [
    "# Here we get the same output for both the objects. Because both of them having same value.\n",
    "\n",
    "class Computer:\n",
    "    \n",
    "    def __init__(self):\n",
    "        self.name = \"Navin\"\n",
    "        self.age = 28\n",
    "\n",
    "c1 = Computer()\n",
    "c2 = Computer()\n",
    "\n",
    "print(c1.name)\n",
    "print(c2.name)"
   ]
  },
  {
   "cell_type": "code",
   "execution_count": 4,
   "metadata": {},
   "outputs": [
    {
     "name": "stdout",
     "output_type": "stream",
     "text": [
      "Rashi\n",
      "Navin\n"
     ]
    }
   ],
   "source": [
    "# If we want to assign your own value So there are 2 options\n",
    "# 1st one we can do like this. We can assign our own value.\n",
    "# Here we get different output for both different object.So we can change values from one object to another object.\n",
    "\n",
    "class Computer:\n",
    "    def __init__(self):\n",
    "        self.name = \"Navin\"\n",
    "        self.age = 28\n",
    "\n",
    "c1 = Computer()\n",
    "c2 = Computer()\n",
    "\n",
    "c1.name = \"Rashi\"\n",
    "c1.age = 12\n",
    "\n",
    "print(c1.name)\n",
    "print(c2.name)"
   ]
  },
  {
   "cell_type": "code",
   "execution_count": 5,
   "metadata": {},
   "outputs": [
    {
     "name": "stdout",
     "output_type": "stream",
     "text": [
      "28\n",
      "28\n"
     ]
    }
   ],
   "source": [
    "# Here we get the same output for both the objects. Because both of them having same value.\n",
    "\n",
    "class Computer:\n",
    "\n",
    "    def __init__(self):\n",
    "        self.name = \"Navin\"\n",
    "        self.age = 28\n",
    "\n",
    "c1 = Computer()\n",
    "c2 = Computer()\n",
    "\n",
    "print(c1.age)\n",
    "print(c2.age)"
   ]
  },
  {
   "cell_type": "code",
   "execution_count": 6,
   "metadata": {},
   "outputs": [
    {
     "name": "stdout",
     "output_type": "stream",
     "text": [
      "30\n",
      "28\n"
     ]
    }
   ],
   "source": [
    "# 1st one we can do like this. We can change values using update method.\n",
    "\n",
    "class Computer:\n",
    "\n",
    "    def __init__(self):\n",
    "        self.name = \"Navin\"\n",
    "        self.age = 28\n",
    "\n",
    "    def update(self):\n",
    "        self.age = 30\n",
    "\n",
    "c1 = Computer()\n",
    "c2 = Computer()\n",
    "\n",
    "c1.update()\n",
    "\n",
    "print(c1.age)\n",
    "print(c2.age)"
   ]
  },
  {
   "cell_type": "code",
   "execution_count": 7,
   "metadata": {},
   "outputs": [
    {
     "name": "stdout",
     "output_type": "stream",
     "text": [
      "They are same\n",
      "28\n",
      "28\n"
     ]
    }
   ],
   "source": [
    "# Comapare two Object that is same.\n",
    "\n",
    "class Computer:\n",
    "\n",
    "    def __init__(self):\n",
    "        self.name = \"Navin\"\n",
    "        self.age = 28\n",
    "\n",
    "\n",
    "    def compare(self,other):                        # Compare(c1,c2)\n",
    "        if self.age == other.age:\n",
    "            return True\n",
    "        else:\n",
    "            return False\n",
    "\n",
    "c1 = Computer()\n",
    "c2 = Computer()\n",
    "\n",
    "if c1.compare(c2):\n",
    "    print(\"They are same\")\n",
    "else:\n",
    "    print(\"They are different\")\n",
    "\n",
    "print(c1.age)\n",
    "print(c2.age)"
   ]
  },
  {
   "cell_type": "code",
   "execution_count": 8,
   "metadata": {},
   "outputs": [
    {
     "name": "stdout",
     "output_type": "stream",
     "text": [
      "They are different\n",
      "30\n",
      "28\n"
     ]
    }
   ],
   "source": [
    "# Comapare two Object that is different.\n",
    "\n",
    "class Computer:\n",
    "\n",
    "    def __init__(self):\n",
    "        self.name = \"Navin\"\n",
    "        self.age = 28\n",
    "\n",
    "\n",
    "    def compare(self,other):                        # Compare(c1,c2)\n",
    "        if self.age == other.age:\n",
    "            return True\n",
    "        else:\n",
    "            return False\n",
    "\n",
    "c1 = Computer()\n",
    "c1.age = 30\n",
    "c2 = Computer()\n",
    "\n",
    "if c1.compare(c2):\n",
    "    print(\"They are same\")\n",
    "else:\n",
    "    print(\"They are different\")\n",
    "\n",
    "print(c1.age)\n",
    "print(c2.age)"
   ]
  }
 ],
 "metadata": {
  "kernelspec": {
   "display_name": "Python 3",
   "language": "python",
   "name": "python3"
  },
  "language_info": {
   "codemirror_mode": {
    "name": "ipython",
    "version": 3
   },
   "file_extension": ".py",
   "mimetype": "text/x-python",
   "name": "python",
   "nbconvert_exporter": "python",
   "pygments_lexer": "ipython3",
   "version": "3.11.9"
  }
 },
 "nbformat": 4,
 "nbformat_minor": 2
}
