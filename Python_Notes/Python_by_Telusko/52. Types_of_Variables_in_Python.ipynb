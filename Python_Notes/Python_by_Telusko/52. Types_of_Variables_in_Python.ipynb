{
 "cells": [
  {
   "cell_type": "markdown",
   "metadata": {},
   "source": [
    "### 52. Types_of_Variables_in_Python\n",
    "\n",
    "There are 2 types of Variables\n",
    "1) Instance Variable\n",
    "2) Class(Static) Variable\n",
    "\n",
    "When we define variable inside __init__method it's a Instance Variables. Calling Instance Variables we can used object name only, we can not call using class name. And When we want to change value of Instance Variable it can affect only on that object.\n",
    "\n",
    "When we define variable outside __init__method it's a Class(Static) Variable. Calling Class(Static) Variable we can used class name or object name as well. And in case of Class(Static) Variable when we want to change value it will affect call the objects."
   ]
  },
  {
   "cell_type": "code",
   "execution_count": 53,
   "metadata": {},
   "outputs": [
    {
     "name": "stdout",
     "output_type": "stream",
     "text": [
      "Jaguar 10\n",
      "Jaguar 10\n"
     ]
    }
   ],
   "source": [
    "# We get same output because object having same value.\n",
    "\n",
    "class Car:                                      # Class\n",
    "\n",
    "    def __init__(self):                         # Special Method\n",
    "        self.mil = 10\n",
    "        self.com = \"Jaguar\"\n",
    "\n",
    "c1 = Car()                                      # Object\n",
    "c2 = Car()\n",
    "\n",
    "print(c1.com, c1.mil)                           # Calling Object\n",
    "print(c1.com, c2.mil)\n"
   ]
  },
  {
   "cell_type": "code",
   "execution_count": 54,
   "metadata": {},
   "outputs": [
    {
     "name": "stdout",
     "output_type": "stream",
     "text": [
      "Jaguar 8\n",
      "Jaguar 10\n"
     ]
    }
   ],
   "source": [
    "# We get different output because we change object 1 mil value.\n",
    "\n",
    "class Car:                                      # Class\n",
    "\n",
    "    def __init__(self):                         # Special Method\n",
    "        self.mil = 10\n",
    "        self.com = \"Jaguar\"\n",
    "\n",
    "c1 = Car()                                      # Object\n",
    "c2 = Car()\n",
    "\n",
    "c1.mil = 8\n",
    "\n",
    "print(c1.com, c1.mil)                           # Calling Object\n",
    "print(c1.com, c2.mil)"
   ]
  },
  {
   "cell_type": "code",
   "execution_count": 55,
   "metadata": {},
   "outputs": [
    {
     "name": "stdout",
     "output_type": "stream",
     "text": [
      "Jaguar 8 4\n",
      "Jaguar 10 4\n",
      "Jaguar 8 4\n",
      "Jaguar 10 4\n"
     ]
    }
   ],
   "source": [
    "# When we define variable inside __init__ method it's a Instance Variables.\n",
    "# When we define variable outside __init__ method it's a Class(Static) Variable.\n",
    "# Calling wheels we can used class name or object name as well because it is Class(Static) Variable. But we can not call mil or com by class name because it is Instance Variable.\n",
    "# Here you can see in output.\n",
    "\n",
    "class Car:                                      # Class\n",
    "\n",
    "    wheels = 4                                  # Class(Static) Variable\n",
    "\n",
    "    def __init__(self):                         # Special Method\n",
    "        self.mil = 10                           # Instance Variables\n",
    "        self.com = \"Jaguar\"\n",
    "\n",
    "c1 = Car()                                      # Object\n",
    "c2 = Car()\n",
    "\n",
    "c1.mil = 8\n",
    "\n",
    "print(c1.com, c1.mil, c1.wheels)                # Calling Object\n",
    "print(c2.com, c2.mil, c2.wheels)\n",
    "print(c1.com, c1.mil, Car.wheels)\n",
    "print(c2.com, c2.mil, Car.wheels)\n"
   ]
  },
  {
   "cell_type": "code",
   "execution_count": 56,
   "metadata": {},
   "outputs": [
    {
     "name": "stdout",
     "output_type": "stream",
     "text": [
      "Jaguar 8 5\n",
      "Jaguar 10 5\n"
     ]
    }
   ],
   "source": [
    "# When we want to change value of Instance Variable it can affect only on that object.\n",
    "# But in case of Class(Static) Variable when we want to change value it will affect call the objects.\n",
    "\n",
    "class Car:                                      # Class\n",
    "\n",
    "    wheels = 4                                  # Class(Static) Variable\n",
    "\n",
    "    def __init__(self):                         # Special Method\n",
    "        self.mil = 10                           # Instance Variables\n",
    "        self.com = \"Jaguar\"\n",
    "\n",
    "c1 = Car()                                      # Object\n",
    "c2 = Car()\n",
    "\n",
    "c1.mil = 8\n",
    "\n",
    "Car.wheels = 5\n",
    "\n",
    "print(c1.com, c1.mil, c1.wheels)                # Calling Object\n",
    "print(c2.com, c2.mil, c2.wheels)"
   ]
  },
  {
   "cell_type": "code",
   "execution_count": null,
   "metadata": {},
   "outputs": [],
   "source": []
  },
  {
   "cell_type": "code",
   "execution_count": null,
   "metadata": {},
   "outputs": [],
   "source": []
  }
 ],
 "metadata": {
  "kernelspec": {
   "display_name": "Python 3",
   "language": "python",
   "name": "python3"
  },
  "language_info": {
   "codemirror_mode": {
    "name": "ipython",
    "version": 3
   },
   "file_extension": ".py",
   "mimetype": "text/x-python",
   "name": "python",
   "nbconvert_exporter": "python",
   "pygments_lexer": "ipython3",
   "version": "3.11.9"
  }
 },
 "nbformat": 4,
 "nbformat_minor": 2
}
