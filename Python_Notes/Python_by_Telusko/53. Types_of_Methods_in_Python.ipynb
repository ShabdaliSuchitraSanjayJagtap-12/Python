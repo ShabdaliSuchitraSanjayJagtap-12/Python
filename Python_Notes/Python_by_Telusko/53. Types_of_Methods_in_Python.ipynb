{
 "cells": [
  {
   "cell_type": "markdown",
   "metadata": {},
   "source": [
    "### 53. Types_of_Methods_in_Python\n",
    "\n",
    "There are 3 types of Methods\n",
    "1) Instance Methods:\n",
    "    - Types of Instance Methods:\n",
    "    a) Accessor Methods - Getter\n",
    "    b) Mutator Methods - Setter\n",
    "2) Class Methods\n",
    "3) Static Methods\n"
   ]
  },
  {
   "cell_type": "code",
   "execution_count": 25,
   "metadata": {},
   "outputs": [
    {
     "name": "stdout",
     "output_type": "stream",
     "text": [
      "37.666666666666664\n",
      "44.333333333333336\n"
     ]
    }
   ],
   "source": [
    "# Instance Methods\n",
    "\n",
    "class Student:                                          # Class\n",
    "\n",
    "    school = 'Telusko'                                  # Class(Static) Variable\n",
    "\n",
    "    def __init__(self,m1,m2,m3):                        # Instance Method\n",
    "        self.m1 = m1                                    # Instance Variables\n",
    "        self.m2 = m2\n",
    "        self.m3 = m3\n",
    "\n",
    "    def avg(self):                                      # Instance Method\n",
    "        return (self.m1 + self.m2 + self.m3)/3\n",
    "\n",
    "s1 = Student(34,47,32)                                  # Object\n",
    "s2 = Student(89,32,12)\n",
    "\n",
    "print(s1.avg()) \n",
    "print(s2.avg())                                                                                 "
   ]
  },
  {
   "cell_type": "code",
   "execution_count": 26,
   "metadata": {},
   "outputs": [
    {
     "name": "stdout",
     "output_type": "stream",
     "text": [
      "34\n"
     ]
    }
   ],
   "source": [
    "# Instance Methods \n",
    "# We had fetch values using print(s1.m1) but fetching values we used Accessor method - Getter.\n",
    "# Here we are using variables for fetching values but instead of we used method\n",
    "\n",
    "class Student:                                          # Class\n",
    "\n",
    "    school = 'Telusko'                                  # Class(Static) Variable\n",
    "\n",
    "    def __init__(self,m1,m2,m3):                        # Instance Method\n",
    "        self.m1 = m1                                    # Instance Variables\n",
    "        self.m2 = m2\n",
    "        self.m3 = m3\n",
    "\n",
    "    def avg(self):                                      # Instance Method\n",
    "        return (self.m1 + self.m2 + self.m3)/3\n",
    "\n",
    "    def get_m1(self):                                   # Accessor Methods - Getter :- If we want to just fetch the value of instance variable than we used Accessor Methods.\n",
    "        return self.m1\n",
    "    \n",
    "    def set_m1(self,value):                             # Mutator Methods - Setter :- If we want to modify the value of instance variable than we used Mutator Methods.\n",
    "        self.m1 = value\n",
    "    \n",
    "s1 = Student(34,47,32)                                  # Object\n",
    "\n",
    "print(s1.m1)                                            # Fetch value of m1\n",
    "    "
   ]
  },
  {
   "cell_type": "code",
   "execution_count": 27,
   "metadata": {},
   "outputs": [
    {
     "name": "stdout",
     "output_type": "stream",
     "text": [
      "Initial Marks:\n",
      "M1: 34\n",
      "M2: 47\n",
      "M3: 32\n",
      "\n",
      "Average Marks: 37.666666666666664\n",
      "\n",
      "Updated Marks:\n",
      "M1: 88\n",
      "M2: 92\n",
      "M3: 97\n",
      "\n",
      "Average Marks: 92.33333333333333\n"
     ]
    }
   ],
   "source": [
    "# Instance Methods\n",
    "# Using Method for fetching and modifing values.\n",
    "# Instance Variables can used with instance methods\n",
    "# Types of Instance Methods:\n",
    "#    a) Accessor Methods - Getter\n",
    "#    b) Mutator Methods - Setter\n",
    "\n",
    "class Student:                                          # Class\n",
    "\n",
    "    school = 'Telusko'                                  # Class(Static) Variable\n",
    "\n",
    "    def __init__(self,m1,m2,m3):                        # Instance Method\n",
    "        self.m1 = m1                                    # Instance Variables\n",
    "        self.m2 = m2\n",
    "        self.m3 = m3\n",
    "\n",
    "    def avg(self):                                      # Instance Method\n",
    "        return (self.m1 + self.m2 + self.m3)/3\n",
    "\n",
    "    # Accessor Methods - Getter :- If we want to just fetch the value of instance variable than we used Accessor Methods.\n",
    "    def get_m1(self):                                   \n",
    "        return self.m1\n",
    "    \n",
    "    def get_m2(self):\n",
    "        return self.m2\n",
    "\n",
    "    def get_m3(self):\n",
    "        return self.m3\n",
    "    \n",
    "    # Mutator Methods - Setter :- If we want to modify the value of instance variable than we used Mutator Methods.\n",
    "    def set_m1(self,value):                            \n",
    "        self.m1 = value\n",
    "\n",
    "    def set_m2(self, value):\n",
    "        self.m2 = value\n",
    "\n",
    "    def set_m3(self, value):\n",
    "        self.m3 = value\n",
    "    \n",
    "s1 = Student(34,47,32)                                  # Object\n",
    "\n",
    "# Using getter methods to fetch values\n",
    "print(\"Initial Marks:\")\n",
    "print(\"M1:\", s1.get_m1())  \n",
    "print(\"M2:\", s1.get_m2())  \n",
    "print(\"M3:\", s1.get_m3())\n",
    "\n",
    "print(\"\\nAverage Marks:\", s1.avg())                     # Taking s1(34,47,32)\n",
    "\n",
    "# Using setter methods to modify or update values\n",
    "s1.set_m1(88)\n",
    "s1.set_m2(92)\n",
    "s1.set_m3(97)\n",
    "\n",
    "print(\"\\nUpdated Marks:\")\n",
    "print(\"M1:\", s1.get_m1())  \n",
    "print(\"M2:\", s1.get_m2())  \n",
    "print(\"M3:\", s1.get_m3())  \n",
    "\n",
    "print(\"\\nAverage Marks:\", s1.avg())                     # Taking s1(88,92,97)"
   ]
  },
  {
   "cell_type": "code",
   "execution_count": 28,
   "metadata": {},
   "outputs": [
    {
     "name": "stdout",
     "output_type": "stream",
     "text": [
      "37.666666666666664\n",
      "Telusko\n"
     ]
    }
   ],
   "source": [
    "# Class Method\n",
    "# Class(Static) Variable can used with Class Methods.\n",
    "\n",
    "class Student:                                          # Class\n",
    "\n",
    "    school = 'Telusko'                                  # Class(Static) Variable\n",
    "\n",
    "    def __init__(self,m1,m2,m3):                        # Instance Method\n",
    "        self.m1 = m1                                    # Instance Variables\n",
    "        self.m2 = m2\n",
    "        self.m3 = m3\n",
    "\n",
    "    def avg(self):                                      # Instance Method and we used self keyword\n",
    "        return (self.m1 + self.m2 + self.m3)/3\n",
    "\n",
    "    @classmethod                                        # Class Method and we used cls keyword\n",
    "    def class_school(cls):                          \n",
    "        return cls.school\n",
    "    \n",
    "s1 = Student(34,47,32)                                  # Object\n",
    "s2 = Student(89,32,12)\n",
    "\n",
    "print(s1.avg())                                         # Calling Instance Method here we give object name\n",
    "print(Student.class_school())                           # Calling Class method here we give Class name"
   ]
  },
  {
   "cell_type": "code",
   "execution_count": 29,
   "metadata": {},
   "outputs": [
    {
     "name": "stdout",
     "output_type": "stream",
     "text": [
      "37.666666666666664\n",
      "Telusko\n",
      "This is Student class.. in abc molude\n",
      "This is Student class.. in abc molude\n"
     ]
    }
   ],
   "source": [
    "# Static Method\n",
    "# When we don't want to work with Instance Variables and Class(Static) Variable then we used Static Method.\n",
    "\n",
    "class Student:                                          # Class\n",
    "\n",
    "    school = 'Telusko'                                  # Class(Static) Variable\n",
    "\n",
    "    def __init__(self,m1,m2,m3):                        # Instance Method\n",
    "        self.m1 = m1                                    # Instance Variables\n",
    "        self.m2 = m2\n",
    "        self.m3 = m3\n",
    "\n",
    "    def avg(self):                                      # Instance Method and we used self keyword\n",
    "        return (self.m1 + self.m2 + self.m3)/3\n",
    "\n",
    "    @classmethod                                        # Class Method and we used cls keyword\n",
    "    def class_school(cls):\n",
    "        return cls.school\n",
    "    \n",
    "    @staticmethod                                       # Static Method and we dont give any keyword\n",
    "    def info():\n",
    "        print(\"This is Student class.. in abc molude\")\n",
    "\n",
    "s1 = Student(34,47,32)                                  # Object\n",
    "s2 = Student(89,32,12)\n",
    "\n",
    "print(s1.avg())                                         # Calling Instance Method here we give object name\n",
    "print(Student.class_school())                           # Calling Class method here we give Class name\n",
    "\n",
    "Student.info()                                          # Calling Static method here we give Class name or object name as well\n",
    "s1.info()                                               # Calling Static method here we give Class name or object name as well"
   ]
  },
  {
   "cell_type": "code",
   "execution_count": null,
   "metadata": {},
   "outputs": [],
   "source": []
  },
  {
   "cell_type": "code",
   "execution_count": null,
   "metadata": {},
   "outputs": [],
   "source": []
  }
 ],
 "metadata": {
  "kernelspec": {
   "display_name": "Python 3",
   "language": "python",
   "name": "python3"
  },
  "language_info": {
   "codemirror_mode": {
    "name": "ipython",
    "version": 3
   },
   "file_extension": ".py",
   "mimetype": "text/x-python",
   "name": "python",
   "nbconvert_exporter": "python",
   "pygments_lexer": "ipython3",
   "version": "3.11.9"
  }
 },
 "nbformat": 4,
 "nbformat_minor": 2
}
