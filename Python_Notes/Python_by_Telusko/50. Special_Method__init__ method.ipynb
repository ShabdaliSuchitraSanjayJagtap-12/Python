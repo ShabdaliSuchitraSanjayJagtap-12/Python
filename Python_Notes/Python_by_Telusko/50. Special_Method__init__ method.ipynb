{
 "cells": [
  {
   "cell_type": "markdown",
   "metadata": {},
   "source": [
    "### 50. Special_Method__init__ method\n",
    "\n",
    "In this lecture we will learn:\n",
    "- How to define variables in a class?\n",
    "- What is __init__() in python?\n",
    "- What is the use of the init() method?\n",
    "- Creation of objects in Python\n",
    "- How to set and extract values from a class?\n",
    "\n",
    "Special :-\n",
    "1. Special Variables__name__\n",
    "2. Special Methods__init__\n",
    "\n",
    "#1\n",
    "- Every object has two things: Attributes and Behaviour.\n",
    "- Attributes are variables and behaviour is methods that are similar to functions.\n",
    "- In python, variables will be defined in a special method known as _init_ that should be present inside the class.\n",
    "- init() method must have an argument known as self with it.\n",
    " def __init__(self):\n",
    "- init() method in python works similarly to constructors that are present in other programming languages.\n",
    "- init() runs automatically as we do not need to call this method.\n",
    "- All methods other than init() will be executed only when they are called from somewhere in a program.\n",
    "- For every object, init() method will be get called once. So, if we create two objects then the init() method will execute two times.\n",
    "\n",
    "#2\n",
    "- When an object of a class is created, the class is said to be instantiated. It is also known as object creation.\n",
    " variable= class_name()\n",
    "An object of that class will be created.\n",
    "- We can pass arguments to a class in the constructor itself for their execution.\n",
    "- Values of arguments can be accepted in a class in the init() method as its parameters.\n",
    "- The variable name of the object is passed automatically and gets accepted by the self in the init() method.\n",
    " class Computer: \n",
    "  def __init__(self, CPU, ram):\n",
    "   -(statements)-\n",
    " com1=Computer('i5', '16')\n",
    "\n",
    "#3 \n",
    "- So, in actuality when the object is created, first we pass the object itself in an argument and then pass values of other parameters in it.\n",
    "- Whatever values you passed for different parameters in an object, will be assigned to an object through the self.\n",
    " def __init__(self, CPU, ram):\n",
    "- In a class variables are not local variables as they are associated with an object so we have to use the self with variables to fetch the values.\n",
    "- We bind data with every object so one object will have its own methods and variables."
   ]
  },
  {
   "cell_type": "code",
   "execution_count": 9,
   "metadata": {},
   "outputs": [
    {
     "name": "stdout",
     "output_type": "stream",
     "text": [
      "in init\n",
      "in init\n",
      "i5, 16GB, 1TB\n",
      "i5, 16GB, 1TB\n"
     ]
    }
   ],
   "source": [
    "# As we can see in the below output we get in init as a output aslo but we had not call __init__ method than also we get because there is no need to call init method.\n",
    "# But in case of config we need to call \n",
    "# It prints 2 time why 2 times because for every object it will print ones so we have 2 object com1 and com2\n",
    "\n",
    "class Computer:                         # Class\n",
    "\n",
    "    def __init__(self):                 # Special Method\n",
    "        print(\"in init\")                \n",
    "\n",
    "    def config(self):                   # Method\n",
    "        print(\"i5, 16GB, 1TB\")\n",
    "\n",
    "com1 = Computer()                       # Object\n",
    "com2 = Computer()                       # Onject\n",
    "\n",
    "com1.config()                           # Calling Config\n",
    "com2.config()                           # Calling Config"
   ]
  },
  {
   "cell_type": "code",
   "execution_count": 10,
   "metadata": {},
   "outputs": [
    {
     "name": "stdout",
     "output_type": "stream",
     "text": [
      "Config is  i5 16\n",
      "Config is  Ryzen 3 8\n"
     ]
    }
   ],
   "source": [
    "# Here we pass an argument there are 2 argument and self is an object so that 2 argument goes in cpu and ram.\n",
    "class Computer:\n",
    "\n",
    "    def __init__(self,cpu,ram):\n",
    "        self.cpu = cpu\n",
    "        self.ram = ram\n",
    "\n",
    "    def config(self):\n",
    "        print(\"Config is \",self.cpu,self.ram)\n",
    "\n",
    "com1 = Computer('i5',16)\n",
    "com2 = Computer('Ryzen 3',8)\n",
    "\n",
    "com1.config()\n",
    "com2.config()"
   ]
  },
  {
   "cell_type": "code",
   "execution_count": null,
   "metadata": {},
   "outputs": [],
   "source": []
  },
  {
   "cell_type": "code",
   "execution_count": null,
   "metadata": {},
   "outputs": [],
   "source": []
  },
  {
   "cell_type": "code",
   "execution_count": null,
   "metadata": {},
   "outputs": [],
   "source": []
  },
  {
   "cell_type": "code",
   "execution_count": null,
   "metadata": {},
   "outputs": [],
   "source": []
  },
  {
   "cell_type": "code",
   "execution_count": null,
   "metadata": {},
   "outputs": [],
   "source": []
  }
 ],
 "metadata": {
  "kernelspec": {
   "display_name": "Python 3",
   "language": "python",
   "name": "python3"
  },
  "language_info": {
   "codemirror_mode": {
    "name": "ipython",
    "version": 3
   },
   "file_extension": ".py",
   "mimetype": "text/x-python",
   "name": "python",
   "nbconvert_exporter": "python",
   "pygments_lexer": "ipython3",
   "version": "3.11.9"
  }
 },
 "nbformat": 4,
 "nbformat_minor": 2
}
